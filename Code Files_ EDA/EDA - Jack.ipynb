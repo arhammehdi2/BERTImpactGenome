{
 "cells": [
  {
   "cell_type": "markdown",
   "id": "24b6a0ff-ac19-4ca6-b46d-6833d3222c64",
   "metadata": {},
   "source": [
    "## Exploratory Data Analysis - Group 5 - Impact Genome Project\n",
    "### John (Jack) Leniart"
   ]
  },
  {
   "cell_type": "code",
   "execution_count": 138,
   "id": "04990c5c-f92d-4a8b-a51c-559d37921887",
   "metadata": {
    "tags": []
   },
   "outputs": [],
   "source": [
    "#cd C:\\\\Users\\\\jclen\\\\OneDrive\\\\Desktop\\\\DSC 672 - Capstone\\\\Group Project"
   ]
  },
  {
   "cell_type": "code",
   "execution_count": 106,
   "id": "58f7ae35-468e-4148-88f5-54186aadf6fd",
   "metadata": {
    "tags": []
   },
   "outputs": [],
   "source": [
    "import pandas as pd\n",
    "import numpy as np"
   ]
  },
  {
   "cell_type": "code",
   "execution_count": 108,
   "id": "0ec8e9ff-efa2-4cee-af86-21fa98199466",
   "metadata": {
    "tags": []
   },
   "outputs": [],
   "source": [
    "#fileName = 'Full Validated Outcome Data with Description.xlsx'\n",
    "fileName = 'Validated Data from Heather.xlsx'\n",
    "full_df = pd.read_excel(fileName)"
   ]
  },
  {
   "cell_type": "code",
   "execution_count": 110,
   "id": "c44e9821-55d1-4ec2-a622-36954e80f604",
   "metadata": {
    "tags": []
   },
   "outputs": [
    {
     "data": {
      "text/html": [
       "<div>\n",
       "<style scoped>\n",
       "    .dataframe tbody tr th:only-of-type {\n",
       "        vertical-align: middle;\n",
       "    }\n",
       "\n",
       "    .dataframe tbody tr th {\n",
       "        vertical-align: top;\n",
       "    }\n",
       "\n",
       "    .dataframe thead th {\n",
       "        text-align: right;\n",
       "    }\n",
       "</style>\n",
       "<table border=\"1\" class=\"dataframe\">\n",
       "  <thead>\n",
       "    <tr style=\"text-align: right;\">\n",
       "      <th></th>\n",
       "      <th>programreportid</th>\n",
       "      <th>programdescription</th>\n",
       "      <th>impactarea</th>\n",
       "      <th>genome</th>\n",
       "      <th>outcome</th>\n",
       "      <th>outcomeid</th>\n",
       "    </tr>\n",
       "  </thead>\n",
       "  <tbody>\n",
       "    <tr>\n",
       "      <th>0</th>\n",
       "      <td>1000</td>\n",
       "      <td>The Cultural Allianceâ€™s work falls into two ...</td>\n",
       "      <td>Arts</td>\n",
       "      <td>Creative Community</td>\n",
       "      <td>Strengthened Creative Community</td>\n",
       "      <td>199.00</td>\n",
       "    </tr>\n",
       "    <tr>\n",
       "      <th>1</th>\n",
       "      <td>1004</td>\n",
       "      <td>The Unity Performing Arts programming is focus...</td>\n",
       "      <td>Youth</td>\n",
       "      <td>Youth Development</td>\n",
       "      <td>Social and Emotional Skills</td>\n",
       "      <td>190.00</td>\n",
       "    </tr>\n",
       "    <tr>\n",
       "      <th>2</th>\n",
       "      <td>1029</td>\n",
       "      <td>ChiS&amp;E  provides a rigorous  4 week  summer en...</td>\n",
       "      <td>Education</td>\n",
       "      <td>STEM</td>\n",
       "      <td>STEM Proficiency</td>\n",
       "      <td>196.00</td>\n",
       "    </tr>\n",
       "    <tr>\n",
       "      <th>3</th>\n",
       "      <td>1010</td>\n",
       "      <td>CodePath.org offers a three-part program that ...</td>\n",
       "      <td>Education</td>\n",
       "      <td>STEM</td>\n",
       "      <td>STEM Persistence</td>\n",
       "      <td>195.00</td>\n",
       "    </tr>\n",
       "    <tr>\n",
       "      <th>4</th>\n",
       "      <td>1061</td>\n",
       "      <td>The Baltimore Educational Scholarship Trust, i...</td>\n",
       "      <td>Education</td>\n",
       "      <td>College and Career Readiness</td>\n",
       "      <td>High School Completion</td>\n",
       "      <td>89.00</td>\n",
       "    </tr>\n",
       "  </tbody>\n",
       "</table>\n",
       "</div>"
      ],
      "text/plain": [
       "   programreportid                                 programdescription  \\\n",
       "0             1000  The Cultural Allianceâ€™s work falls into two ...   \n",
       "1             1004  The Unity Performing Arts programming is focus...   \n",
       "2             1029  ChiS&E  provides a rigorous  4 week  summer en...   \n",
       "3             1010  CodePath.org offers a three-part program that ...   \n",
       "4             1061  The Baltimore Educational Scholarship Trust, i...   \n",
       "\n",
       "  impactarea                        genome                          outcome  \\\n",
       "0       Arts            Creative Community  Strengthened Creative Community   \n",
       "1      Youth             Youth Development      Social and Emotional Skills   \n",
       "2  Education                          STEM                 STEM Proficiency   \n",
       "3  Education                          STEM                 STEM Persistence   \n",
       "4  Education  College and Career Readiness           High School Completion   \n",
       "\n",
       "   outcomeid  \n",
       "0     199.00  \n",
       "1     190.00  \n",
       "2     196.00  \n",
       "3     195.00  \n",
       "4      89.00  "
      ]
     },
     "execution_count": 110,
     "metadata": {},
     "output_type": "execute_result"
    }
   ],
   "source": [
    "full_df.head(5)"
   ]
  },
  {
   "cell_type": "code",
   "execution_count": 112,
   "id": "a2b429f5-d5df-42cf-bff0-b18bfddf4ce7",
   "metadata": {
    "tags": []
   },
   "outputs": [
    {
     "data": {
      "text/plain": [
       "programreportid         int64\n",
       "programdescription     object\n",
       "impactarea             object\n",
       "genome                 object\n",
       "outcome                object\n",
       "outcomeid             float64\n",
       "dtype: object"
      ]
     },
     "execution_count": 112,
     "metadata": {},
     "output_type": "execute_result"
    }
   ],
   "source": [
    "#Check data types\n",
    "full_df.dtypes"
   ]
  },
  {
   "cell_type": "code",
   "execution_count": 114,
   "id": "ae2ddf3a-ac19-4411-8e93-0b4e9a4d8710",
   "metadata": {
    "tags": []
   },
   "outputs": [
    {
     "data": {
      "text/plain": [
       "programreportid       6649\n",
       "programdescription    6642\n",
       "impactarea            6449\n",
       "genome                6449\n",
       "outcome               6449\n",
       "outcomeid             6449\n",
       "dtype: int64"
      ]
     },
     "execution_count": 114,
     "metadata": {},
     "output_type": "execute_result"
    }
   ],
   "source": [
    "#Check counts\n",
    "full_df.count()"
   ]
  },
  {
   "cell_type": "code",
   "execution_count": 116,
   "id": "76db1265-6a85-4319-ac5a-5ae93b02a1c5",
   "metadata": {
    "tags": []
   },
   "outputs": [
    {
     "data": {
      "text/plain": [
       "programreportid       6442\n",
       "programdescription    6442\n",
       "impactarea            6442\n",
       "genome                6442\n",
       "outcome               6442\n",
       "outcomeid             6442\n",
       "dtype: int64"
      ]
     },
     "execution_count": 116,
     "metadata": {},
     "output_type": "execute_result"
    }
   ],
   "source": [
    "#Drop all null values\n",
    "full_df = full_df.dropna()\n",
    "full_df.count()\n",
    "\n",
    "#If we need to drop based on specific criteria like a blank value\n",
    "#full_df.drop(full_df[full_df.impactarea = ''].index, inplace=True)"
   ]
  },
  {
   "cell_type": "code",
   "execution_count": 118,
   "id": "679cc76b-003c-4439-9881-58aae1d38bd7",
   "metadata": {
    "tags": []
   },
   "outputs": [
    {
     "data": {
      "text/plain": [
       "programreportid        int64\n",
       "programdescription    object\n",
       "impactarea            object\n",
       "genome                object\n",
       "outcome               object\n",
       "outcomeid              int32\n",
       "dtype: object"
      ]
     },
     "execution_count": 118,
     "metadata": {},
     "output_type": "execute_result"
    }
   ],
   "source": [
    "#Convert outcomeid to integer type\n",
    "full_df['outcomeid'] = full_df['outcomeid'].astype(int)\n",
    "full_df.dtypes"
   ]
  },
  {
   "cell_type": "code",
   "execution_count": 120,
   "id": "9ebf9593-60a4-4653-91bb-d2b02217b457",
   "metadata": {},
   "outputs": [
    {
     "data": {
      "text/html": [
       "<div>\n",
       "<style scoped>\n",
       "    .dataframe tbody tr th:only-of-type {\n",
       "        vertical-align: middle;\n",
       "    }\n",
       "\n",
       "    .dataframe tbody tr th {\n",
       "        vertical-align: top;\n",
       "    }\n",
       "\n",
       "    .dataframe thead th {\n",
       "        text-align: right;\n",
       "    }\n",
       "</style>\n",
       "<table border=\"1\" class=\"dataframe\">\n",
       "  <thead>\n",
       "    <tr style=\"text-align: right;\">\n",
       "      <th></th>\n",
       "      <th>programreportid</th>\n",
       "      <th>programdescription</th>\n",
       "      <th>impactarea</th>\n",
       "      <th>genome</th>\n",
       "      <th>outcome</th>\n",
       "      <th>outcomeid</th>\n",
       "    </tr>\n",
       "  </thead>\n",
       "  <tbody>\n",
       "    <tr>\n",
       "      <th>count</th>\n",
       "      <td>6442.00</td>\n",
       "      <td>6442</td>\n",
       "      <td>6442</td>\n",
       "      <td>6442</td>\n",
       "      <td>6442</td>\n",
       "      <td>6442.00</td>\n",
       "    </tr>\n",
       "    <tr>\n",
       "      <th>unique</th>\n",
       "      <td>NaN</td>\n",
       "      <td>3653</td>\n",
       "      <td>12</td>\n",
       "      <td>50</td>\n",
       "      <td>201</td>\n",
       "      <td>NaN</td>\n",
       "    </tr>\n",
       "    <tr>\n",
       "      <th>top</th>\n",
       "      <td>NaN</td>\n",
       "      <td>Graduation Alliance's Dropout Recovery program...</td>\n",
       "      <td>Education</td>\n",
       "      <td>Healthcare Access and Advocacy</td>\n",
       "      <td>Healthcare Utilization</td>\n",
       "      <td>NaN</td>\n",
       "    </tr>\n",
       "    <tr>\n",
       "      <th>freq</th>\n",
       "      <td>NaN</td>\n",
       "      <td>135</td>\n",
       "      <td>1436</td>\n",
       "      <td>698</td>\n",
       "      <td>361</td>\n",
       "      <td>NaN</td>\n",
       "    </tr>\n",
       "    <tr>\n",
       "      <th>mean</th>\n",
       "      <td>4624.91</td>\n",
       "      <td>NaN</td>\n",
       "      <td>NaN</td>\n",
       "      <td>NaN</td>\n",
       "      <td>NaN</td>\n",
       "      <td>287.79</td>\n",
       "    </tr>\n",
       "    <tr>\n",
       "      <th>std</th>\n",
       "      <td>2834.18</td>\n",
       "      <td>NaN</td>\n",
       "      <td>NaN</td>\n",
       "      <td>NaN</td>\n",
       "      <td>NaN</td>\n",
       "      <td>317.04</td>\n",
       "    </tr>\n",
       "    <tr>\n",
       "      <th>min</th>\n",
       "      <td>76.00</td>\n",
       "      <td>NaN</td>\n",
       "      <td>NaN</td>\n",
       "      <td>NaN</td>\n",
       "      <td>NaN</td>\n",
       "      <td>1.00</td>\n",
       "    </tr>\n",
       "    <tr>\n",
       "      <th>25%</th>\n",
       "      <td>2071.25</td>\n",
       "      <td>NaN</td>\n",
       "      <td>NaN</td>\n",
       "      <td>NaN</td>\n",
       "      <td>NaN</td>\n",
       "      <td>60.00</td>\n",
       "    </tr>\n",
       "    <tr>\n",
       "      <th>50%</th>\n",
       "      <td>4227.50</td>\n",
       "      <td>NaN</td>\n",
       "      <td>NaN</td>\n",
       "      <td>NaN</td>\n",
       "      <td>NaN</td>\n",
       "      <td>136.00</td>\n",
       "    </tr>\n",
       "    <tr>\n",
       "      <th>75%</th>\n",
       "      <td>7189.75</td>\n",
       "      <td>NaN</td>\n",
       "      <td>NaN</td>\n",
       "      <td>NaN</td>\n",
       "      <td>NaN</td>\n",
       "      <td>619.00</td>\n",
       "    </tr>\n",
       "    <tr>\n",
       "      <th>max</th>\n",
       "      <td>9607.00</td>\n",
       "      <td>NaN</td>\n",
       "      <td>NaN</td>\n",
       "      <td>NaN</td>\n",
       "      <td>NaN</td>\n",
       "      <td>901.00</td>\n",
       "    </tr>\n",
       "  </tbody>\n",
       "</table>\n",
       "</div>"
      ],
      "text/plain": [
       "        programreportid                                 programdescription  \\\n",
       "count           6442.00                                               6442   \n",
       "unique              NaN                                               3653   \n",
       "top                 NaN  Graduation Alliance's Dropout Recovery program...   \n",
       "freq                NaN                                                135   \n",
       "mean            4624.91                                                NaN   \n",
       "std             2834.18                                                NaN   \n",
       "min               76.00                                                NaN   \n",
       "25%             2071.25                                                NaN   \n",
       "50%             4227.50                                                NaN   \n",
       "75%             7189.75                                                NaN   \n",
       "max             9607.00                                                NaN   \n",
       "\n",
       "       impactarea                          genome                 outcome  \\\n",
       "count        6442                            6442                    6442   \n",
       "unique         12                              50                     201   \n",
       "top     Education  Healthcare Access and Advocacy  Healthcare Utilization   \n",
       "freq         1436                             698                     361   \n",
       "mean          NaN                             NaN                     NaN   \n",
       "std           NaN                             NaN                     NaN   \n",
       "min           NaN                             NaN                     NaN   \n",
       "25%           NaN                             NaN                     NaN   \n",
       "50%           NaN                             NaN                     NaN   \n",
       "75%           NaN                             NaN                     NaN   \n",
       "max           NaN                             NaN                     NaN   \n",
       "\n",
       "        outcomeid  \n",
       "count     6442.00  \n",
       "unique        NaN  \n",
       "top           NaN  \n",
       "freq          NaN  \n",
       "mean       287.79  \n",
       "std        317.04  \n",
       "min          1.00  \n",
       "25%         60.00  \n",
       "50%        136.00  \n",
       "75%        619.00  \n",
       "max        901.00  "
      ]
     },
     "execution_count": 120,
     "metadata": {},
     "output_type": "execute_result"
    }
   ],
   "source": [
    "#Check descriptive statistics for all columns\n",
    "full_df.describe(include='all')"
   ]
  },
  {
   "cell_type": "markdown",
   "id": "60adcd80-6176-45aa-b28a-dbca327c068c",
   "metadata": {},
   "source": [
    "##### Most Common Impact Area:  Education\n",
    "##### Most Common Genome:  Healthcare Access and Advocacy\n",
    "##### Most Common Outcome:  Healthcare Utilization"
   ]
  },
  {
   "cell_type": "markdown",
   "id": "f5cc38bd-5389-4bae-a372-8da7db96ab8a",
   "metadata": {},
   "source": [
    "-----------------------"
   ]
  },
  {
   "cell_type": "code",
   "execution_count": 127,
   "id": "f1650509-cd54-4c00-a58e-b5a7ab430438",
   "metadata": {
    "tags": []
   },
   "outputs": [
    {
     "data": {
      "text/html": [
       "<div>\n",
       "<style scoped>\n",
       "    .dataframe tbody tr th:only-of-type {\n",
       "        vertical-align: middle;\n",
       "    }\n",
       "\n",
       "    .dataframe tbody tr th {\n",
       "        vertical-align: top;\n",
       "    }\n",
       "\n",
       "    .dataframe thead th {\n",
       "        text-align: right;\n",
       "    }\n",
       "</style>\n",
       "<table border=\"1\" class=\"dataframe\">\n",
       "  <thead>\n",
       "    <tr style=\"text-align: right;\">\n",
       "      <th></th>\n",
       "      <th>outcomeid</th>\n",
       "    </tr>\n",
       "  </thead>\n",
       "  <tbody>\n",
       "    <tr>\n",
       "      <th>872</th>\n",
       "      <td>361</td>\n",
       "    </tr>\n",
       "    <tr>\n",
       "      <th>190</th>\n",
       "      <td>246</td>\n",
       "    </tr>\n",
       "    <tr>\n",
       "      <th>7</th>\n",
       "      <td>235</td>\n",
       "    </tr>\n",
       "    <tr>\n",
       "      <th>21</th>\n",
       "      <td>224</td>\n",
       "    </tr>\n",
       "    <tr>\n",
       "      <th>96</th>\n",
       "      <td>198</td>\n",
       "    </tr>\n",
       "  </tbody>\n",
       "</table>\n",
       "</div>"
      ],
      "text/plain": [
       "     outcomeid\n",
       "872        361\n",
       "190        246\n",
       "7          235\n",
       "21         224\n",
       "96         198"
      ]
     },
     "execution_count": 127,
     "metadata": {},
     "output_type": "execute_result"
    }
   ],
   "source": [
    "#Create new dataframe with the value counts for each unique outcome id\n",
    "ID_counts_df = pd.DataFrame(full_df['outcomeid'].value_counts())\n",
    "ID_counts_df.head(5)"
   ]
  },
  {
   "cell_type": "code",
   "execution_count": 130,
   "id": "42f8c51b-8d84-44b6-be23-ea5c3eb390dd",
   "metadata": {},
   "outputs": [
    {
     "data": {
      "text/html": [
       "<div>\n",
       "<style scoped>\n",
       "    .dataframe tbody tr th:only-of-type {\n",
       "        vertical-align: middle;\n",
       "    }\n",
       "\n",
       "    .dataframe tbody tr th {\n",
       "        vertical-align: top;\n",
       "    }\n",
       "\n",
       "    .dataframe thead th {\n",
       "        text-align: right;\n",
       "    }\n",
       "</style>\n",
       "<table border=\"1\" class=\"dataframe\">\n",
       "  <thead>\n",
       "    <tr style=\"text-align: right;\">\n",
       "      <th></th>\n",
       "      <th>outcomeid_count</th>\n",
       "    </tr>\n",
       "  </thead>\n",
       "  <tbody>\n",
       "    <tr>\n",
       "      <th>872</th>\n",
       "      <td>361</td>\n",
       "    </tr>\n",
       "    <tr>\n",
       "      <th>190</th>\n",
       "      <td>246</td>\n",
       "    </tr>\n",
       "    <tr>\n",
       "      <th>7</th>\n",
       "      <td>235</td>\n",
       "    </tr>\n",
       "    <tr>\n",
       "      <th>21</th>\n",
       "      <td>224</td>\n",
       "    </tr>\n",
       "    <tr>\n",
       "      <th>96</th>\n",
       "      <td>198</td>\n",
       "    </tr>\n",
       "  </tbody>\n",
       "</table>\n",
       "</div>"
      ],
      "text/plain": [
       "     outcomeid_count\n",
       "872              361\n",
       "190              246\n",
       "7                235\n",
       "21               224\n",
       "96               198"
      ]
     },
     "execution_count": 130,
     "metadata": {},
     "output_type": "execute_result"
    }
   ],
   "source": [
    "#Change column name to indicate the values are the counts of each outcome id\n",
    "ID_counts_df.columns = ['outcomeid_count']\n",
    "ID_counts_df.head(5)"
   ]
  },
  {
   "cell_type": "code",
   "execution_count": 132,
   "id": "c5658cc9-54e6-4d2a-b1c1-1955feacb5af",
   "metadata": {},
   "outputs": [
    {
     "data": {
      "text/html": [
       "<div>\n",
       "<style scoped>\n",
       "    .dataframe tbody tr th:only-of-type {\n",
       "        vertical-align: middle;\n",
       "    }\n",
       "\n",
       "    .dataframe tbody tr th {\n",
       "        vertical-align: top;\n",
       "    }\n",
       "\n",
       "    .dataframe thead th {\n",
       "        text-align: right;\n",
       "    }\n",
       "</style>\n",
       "<table border=\"1\" class=\"dataframe\">\n",
       "  <thead>\n",
       "    <tr style=\"text-align: right;\">\n",
       "      <th></th>\n",
       "      <th>outcomeid_count</th>\n",
       "      <th>outcomeid</th>\n",
       "    </tr>\n",
       "  </thead>\n",
       "  <tbody>\n",
       "    <tr>\n",
       "      <th>872</th>\n",
       "      <td>361</td>\n",
       "      <td>872</td>\n",
       "    </tr>\n",
       "    <tr>\n",
       "      <th>190</th>\n",
       "      <td>246</td>\n",
       "      <td>190</td>\n",
       "    </tr>\n",
       "    <tr>\n",
       "      <th>7</th>\n",
       "      <td>235</td>\n",
       "      <td>7</td>\n",
       "    </tr>\n",
       "    <tr>\n",
       "      <th>21</th>\n",
       "      <td>224</td>\n",
       "      <td>21</td>\n",
       "    </tr>\n",
       "    <tr>\n",
       "      <th>96</th>\n",
       "      <td>198</td>\n",
       "      <td>96</td>\n",
       "    </tr>\n",
       "  </tbody>\n",
       "</table>\n",
       "</div>"
      ],
      "text/plain": [
       "     outcomeid_count  outcomeid\n",
       "872              361        872\n",
       "190              246        190\n",
       "7                235          7\n",
       "21               224         21\n",
       "96               198         96"
      ]
     },
     "execution_count": 132,
     "metadata": {},
     "output_type": "execute_result"
    }
   ],
   "source": [
    "#Add new column with the actual outcome IDs (instead of just having them as index values)\n",
    "ID_counts_df['outcomeid'] = ID_counts_df.index\n",
    "ID_counts_df.head(5)"
   ]
  },
  {
   "cell_type": "code",
   "execution_count": 134,
   "id": "6bcc830d-02fb-430f-8afe-f79fef29e029",
   "metadata": {},
   "outputs": [],
   "source": [
    "import matplotlib.pyplot as plt"
   ]
  },
  {
   "cell_type": "code",
   "execution_count": 136,
   "id": "6fb22918-1d15-4822-b202-36ffd679ca68",
   "metadata": {},
   "outputs": [
    {
     "data": {
      "image/png": "[encoded data removed]",
      "text/plain": [
       "<Figure size 640x480 with 1 Axes>"
      ]
     },
     "metadata": {},
     "output_type": "display_data"
    }
   ],
   "source": [
    "#Plot the counts of each outcome id\n",
    "plt.bar(x = ID_counts_df['outcomeid'], height = ID_counts_df['outcomeid_count'])\n",
    "plt.title(\"Counts for All Outcome IDs\")\n",
    "plt.xlabel('Outcome ID')\n",
    "plt.ylabel('Count')\n",
    "plt.show()"
   ]
  },
  {
   "cell_type": "code",
   "execution_count": 138,
   "id": "e5124f12-3f25-452a-bd16-8cfefaee95c7",
   "metadata": {},
   "outputs": [
    {
     "data": {
      "text/html": [
       "<div>\n",
       "<style scoped>\n",
       "    .dataframe tbody tr th:only-of-type {\n",
       "        vertical-align: middle;\n",
       "    }\n",
       "\n",
       "    .dataframe tbody tr th {\n",
       "        vertical-align: top;\n",
       "    }\n",
       "\n",
       "    .dataframe thead th {\n",
       "        text-align: right;\n",
       "    }\n",
       "</style>\n",
       "<table border=\"1\" class=\"dataframe\">\n",
       "  <thead>\n",
       "    <tr style=\"text-align: right;\">\n",
       "      <th></th>\n",
       "      <th>outcomeid_count</th>\n",
       "      <th>outcomeid</th>\n",
       "    </tr>\n",
       "  </thead>\n",
       "  <tbody>\n",
       "    <tr>\n",
       "      <th>count</th>\n",
       "      <td>289.00</td>\n",
       "      <td>289.00</td>\n",
       "    </tr>\n",
       "    <tr>\n",
       "      <th>mean</th>\n",
       "      <td>22.29</td>\n",
       "      <td>326.03</td>\n",
       "    </tr>\n",
       "    <tr>\n",
       "      <th>std</th>\n",
       "      <td>45.09</td>\n",
       "      <td>289.37</td>\n",
       "    </tr>\n",
       "    <tr>\n",
       "      <th>min</th>\n",
       "      <td>1.00</td>\n",
       "      <td>1.00</td>\n",
       "    </tr>\n",
       "    <tr>\n",
       "      <th>25%</th>\n",
       "      <td>2.00</td>\n",
       "      <td>90.00</td>\n",
       "    </tr>\n",
       "    <tr>\n",
       "      <th>50%</th>\n",
       "      <td>4.00</td>\n",
       "      <td>193.00</td>\n",
       "    </tr>\n",
       "    <tr>\n",
       "      <th>75%</th>\n",
       "      <td>19.00</td>\n",
       "      <td>547.00</td>\n",
       "    </tr>\n",
       "    <tr>\n",
       "      <th>max</th>\n",
       "      <td>361.00</td>\n",
       "      <td>901.00</td>\n",
       "    </tr>\n",
       "  </tbody>\n",
       "</table>\n",
       "</div>"
      ],
      "text/plain": [
       "       outcomeid_count  outcomeid\n",
       "count           289.00     289.00\n",
       "mean             22.29     326.03\n",
       "std              45.09     289.37\n",
       "min               1.00       1.00\n",
       "25%               2.00      90.00\n",
       "50%               4.00     193.00\n",
       "75%              19.00     547.00\n",
       "max             361.00     901.00"
      ]
     },
     "execution_count": 138,
     "metadata": {},
     "output_type": "execute_result"
    }
   ],
   "source": [
    "#Check descriptive statistics\n",
    "pd.set_option('display.float_format', lambda x: '%.2f' % x) #round to 2 decimal places\n",
    "ID_counts_df.describe()"
   ]
  },
  {
   "cell_type": "code",
   "execution_count": 140,
   "id": "1a7caf84-801b-440f-b3d3-b3bd41baa250",
   "metadata": {},
   "outputs": [
    {
     "data": {
      "text/html": [
       "<div>\n",
       "<style scoped>\n",
       "    .dataframe tbody tr th:only-of-type {\n",
       "        vertical-align: middle;\n",
       "    }\n",
       "\n",
       "    .dataframe tbody tr th {\n",
       "        vertical-align: top;\n",
       "    }\n",
       "\n",
       "    .dataframe thead th {\n",
       "        text-align: right;\n",
       "    }\n",
       "</style>\n",
       "<table border=\"1\" class=\"dataframe\">\n",
       "  <thead>\n",
       "    <tr style=\"text-align: right;\">\n",
       "      <th></th>\n",
       "      <th>outcomeid_count</th>\n",
       "      <th>outcomeid</th>\n",
       "    </tr>\n",
       "  </thead>\n",
       "  <tbody>\n",
       "    <tr>\n",
       "      <th>872</th>\n",
       "      <td>361</td>\n",
       "      <td>872</td>\n",
       "    </tr>\n",
       "    <tr>\n",
       "      <th>190</th>\n",
       "      <td>246</td>\n",
       "      <td>190</td>\n",
       "    </tr>\n",
       "    <tr>\n",
       "      <th>7</th>\n",
       "      <td>235</td>\n",
       "      <td>7</td>\n",
       "    </tr>\n",
       "    <tr>\n",
       "      <th>21</th>\n",
       "      <td>224</td>\n",
       "      <td>21</td>\n",
       "    </tr>\n",
       "    <tr>\n",
       "      <th>96</th>\n",
       "      <td>198</td>\n",
       "      <td>96</td>\n",
       "    </tr>\n",
       "  </tbody>\n",
       "</table>\n",
       "</div>"
      ],
      "text/plain": [
       "     outcomeid_count  outcomeid\n",
       "872              361        872\n",
       "190              246        190\n",
       "7                235          7\n",
       "21               224         21\n",
       "96               198         96"
      ]
     },
     "execution_count": 140,
     "metadata": {},
     "output_type": "execute_result"
    }
   ],
   "source": [
    "#Create dataframe with the ids and counts for the majority classes\n",
    "majority_classes = ID_counts_df[ID_counts_df['outcomeid_count'] >= 67] #greater than one standard deviation from the mean\n",
    "majority_classes.head(5)"
   ]
  },
  {
   "cell_type": "code",
   "execution_count": 142,
   "id": "dda732e0-8a3f-4c77-bba5-fc96b8e3994e",
   "metadata": {},
   "outputs": [
    {
     "data": {
      "text/html": [
       "<div>\n",
       "<style scoped>\n",
       "    .dataframe tbody tr th:only-of-type {\n",
       "        vertical-align: middle;\n",
       "    }\n",
       "\n",
       "    .dataframe tbody tr th {\n",
       "        vertical-align: top;\n",
       "    }\n",
       "\n",
       "    .dataframe thead th {\n",
       "        text-align: right;\n",
       "    }\n",
       "</style>\n",
       "<table border=\"1\" class=\"dataframe\">\n",
       "  <thead>\n",
       "    <tr style=\"text-align: right;\">\n",
       "      <th></th>\n",
       "      <th>outcomeid_count</th>\n",
       "      <th>outcomeid</th>\n",
       "      <th>outcome</th>\n",
       "    </tr>\n",
       "  </thead>\n",
       "  <tbody>\n",
       "    <tr>\n",
       "      <th>0</th>\n",
       "      <td>361</td>\n",
       "      <td>872</td>\n",
       "      <td>Healthcare Utilization</td>\n",
       "    </tr>\n",
       "    <tr>\n",
       "      <th>361</th>\n",
       "      <td>246</td>\n",
       "      <td>190</td>\n",
       "      <td>Social and Emotional Skills</td>\n",
       "    </tr>\n",
       "    <tr>\n",
       "      <th>607</th>\n",
       "      <td>235</td>\n",
       "      <td>7</td>\n",
       "      <td>Regular Access to Food</td>\n",
       "    </tr>\n",
       "    <tr>\n",
       "      <th>842</th>\n",
       "      <td>224</td>\n",
       "      <td>21</td>\n",
       "      <td>Affordable, Quality Healthcare</td>\n",
       "    </tr>\n",
       "    <tr>\n",
       "      <th>1066</th>\n",
       "      <td>198</td>\n",
       "      <td>96</td>\n",
       "      <td>Improved Academic Performance</td>\n",
       "    </tr>\n",
       "    <tr>\n",
       "      <th>1264</th>\n",
       "      <td>188</td>\n",
       "      <td>89</td>\n",
       "      <td>High School Completion</td>\n",
       "    </tr>\n",
       "    <tr>\n",
       "      <th>1452</th>\n",
       "      <td>174</td>\n",
       "      <td>202</td>\n",
       "      <td>Survivor Well-Being, Independence, and Financi...</td>\n",
       "    </tr>\n",
       "    <tr>\n",
       "      <th>1626</th>\n",
       "      <td>171</td>\n",
       "      <td>28</td>\n",
       "      <td>Career Access and Readiness</td>\n",
       "    </tr>\n",
       "    <tr>\n",
       "      <th>1797</th>\n",
       "      <td>158</td>\n",
       "      <td>194</td>\n",
       "      <td>STEM Interest</td>\n",
       "    </tr>\n",
       "    <tr>\n",
       "      <th>1955</th>\n",
       "      <td>155</td>\n",
       "      <td>116</td>\n",
       "      <td>Job Readiness</td>\n",
       "    </tr>\n",
       "  </tbody>\n",
       "</table>\n",
       "</div>"
      ],
      "text/plain": [
       "      outcomeid_count  outcomeid  \\\n",
       "0                 361        872   \n",
       "361               246        190   \n",
       "607               235          7   \n",
       "842               224         21   \n",
       "1066              198         96   \n",
       "1264              188         89   \n",
       "1452              174        202   \n",
       "1626              171         28   \n",
       "1797              158        194   \n",
       "1955              155        116   \n",
       "\n",
       "                                                outcome  \n",
       "0                                Healthcare Utilization  \n",
       "361                         Social and Emotional Skills  \n",
       "607                              Regular Access to Food  \n",
       "842                      Affordable, Quality Healthcare  \n",
       "1066                      Improved Academic Performance  \n",
       "1264                             High School Completion  \n",
       "1452  Survivor Well-Being, Independence, and Financi...  \n",
       "1626                        Career Access and Readiness  \n",
       "1797                                      STEM Interest  \n",
       "1955                                      Job Readiness  "
      ]
     },
     "execution_count": 142,
     "metadata": {},
     "output_type": "execute_result"
    }
   ],
   "source": [
    "#Merge with the original dataframe to add the outcome names\n",
    "outcome_df = full_df[['outcome','outcomeid']]\n",
    "merged_df = majority_classes.merge(outcome_df, how = 'left', on = 'outcomeid')\n",
    "merged_df.drop_duplicates(subset = 'outcomeid', inplace = True)\n",
    "merged_df.head(10)"
   ]
  },
  {
   "cell_type": "code",
   "execution_count": 144,
   "id": "2ff504f9-7658-48fc-b7ff-2a9aed900a82",
   "metadata": {},
   "outputs": [],
   "source": [
    "import seaborn as sns"
   ]
  },
  {
   "cell_type": "code",
   "execution_count": 146,
   "id": "04889166-6390-4c2e-8acb-535fbd36c92c",
   "metadata": {},
   "outputs": [
    {
     "data": {
      "image/png": "[encoded data removed]",
      "text/plain": [
       "<Figure size 800x800 with 1 Axes>"
      ]
     },
     "metadata": {},
     "output_type": "display_data"
    }
   ],
   "source": [
    "#Create bar plot to show the counts for the majority classes\n",
    "#plt.bar(x = merged_df['outcomeid'], height = merged_df['outcomeid_count'])\n",
    "plt.figure(figsize=(8,8))\n",
    "sns.barplot(data = merged_df, x = 'outcomeid_count', y = 'outcome')\n",
    "plt.title(\"Outcome IDs with Counts >= 67\")\n",
    "plt.xlabel('Count')\n",
    "plt.ylabel('Outcome')\n",
    "plt.show()"
   ]
  },
  {
   "cell_type": "markdown",
   "id": "20b74184-13bc-4ad4-b067-c7e572ce2ca5",
   "metadata": {},
   "source": [
    "----------------------------------------"
   ]
  },
  {
   "cell_type": "code",
   "execution_count": 190,
   "id": "9bbe8297-4092-4ad7-a84f-a088799d2eb1",
   "metadata": {},
   "outputs": [
    {
     "data": {
      "text/html": [
       "<div>\n",
       "<style scoped>\n",
       "    .dataframe tbody tr th:only-of-type {\n",
       "        vertical-align: middle;\n",
       "    }\n",
       "\n",
       "    .dataframe tbody tr th {\n",
       "        vertical-align: top;\n",
       "    }\n",
       "\n",
       "    .dataframe thead th {\n",
       "        text-align: right;\n",
       "    }\n",
       "</style>\n",
       "<table border=\"1\" class=\"dataframe\">\n",
       "  <thead>\n",
       "    <tr style=\"text-align: right;\">\n",
       "      <th></th>\n",
       "      <th>impactarea_count</th>\n",
       "    </tr>\n",
       "  </thead>\n",
       "  <tbody>\n",
       "    <tr>\n",
       "      <th>Education</th>\n",
       "      <td>1436</td>\n",
       "    </tr>\n",
       "    <tr>\n",
       "      <th>Economic Development</th>\n",
       "      <td>1205</td>\n",
       "    </tr>\n",
       "    <tr>\n",
       "      <th>Public Health</th>\n",
       "      <td>1097</td>\n",
       "    </tr>\n",
       "    <tr>\n",
       "      <th>Critical Human Needs</th>\n",
       "      <td>999</td>\n",
       "    </tr>\n",
       "    <tr>\n",
       "      <th>Youth</th>\n",
       "      <td>519</td>\n",
       "    </tr>\n",
       "  </tbody>\n",
       "</table>\n",
       "</div>"
      ],
      "text/plain": [
       "                      impactarea_count\n",
       "Education                         1436\n",
       "Economic Development              1205\n",
       "Public Health                     1097\n",
       "Critical Human Needs               999\n",
       "Youth                              519"
      ]
     },
     "execution_count": 190,
     "metadata": {},
     "output_type": "execute_result"
    }
   ],
   "source": [
    "#Create new dataframe with the value counts for each unique impact area\n",
    "impact_counts_df = pd.DataFrame(full_df['impactarea'].value_counts())\n",
    "\n",
    "#Change column name to indicate the values are the counts of each impact area\n",
    "impact_counts_df.columns = ['impactarea_count']\n",
    "\n",
    "impact_counts_df.head(5)"
   ]
  },
  {
   "cell_type": "code",
   "execution_count": 192,
   "id": "dde5b812-1ef7-4fa9-a557-960fc9799506",
   "metadata": {},
   "outputs": [
    {
     "data": {
      "text/html": [
       "<div>\n",
       "<style scoped>\n",
       "    .dataframe tbody tr th:only-of-type {\n",
       "        vertical-align: middle;\n",
       "    }\n",
       "\n",
       "    .dataframe tbody tr th {\n",
       "        vertical-align: top;\n",
       "    }\n",
       "\n",
       "    .dataframe thead th {\n",
       "        text-align: right;\n",
       "    }\n",
       "</style>\n",
       "<table border=\"1\" class=\"dataframe\">\n",
       "  <thead>\n",
       "    <tr style=\"text-align: right;\">\n",
       "      <th></th>\n",
       "      <th>impactarea_count</th>\n",
       "    </tr>\n",
       "  </thead>\n",
       "  <tbody>\n",
       "    <tr>\n",
       "      <th>count</th>\n",
       "      <td>12.00</td>\n",
       "    </tr>\n",
       "    <tr>\n",
       "      <th>mean</th>\n",
       "      <td>536.83</td>\n",
       "    </tr>\n",
       "    <tr>\n",
       "      <th>std</th>\n",
       "      <td>508.89</td>\n",
       "    </tr>\n",
       "    <tr>\n",
       "      <th>min</th>\n",
       "      <td>19.00</td>\n",
       "    </tr>\n",
       "    <tr>\n",
       "      <th>25%</th>\n",
       "      <td>118.75</td>\n",
       "    </tr>\n",
       "    <tr>\n",
       "      <th>50%</th>\n",
       "      <td>364.00</td>\n",
       "    </tr>\n",
       "    <tr>\n",
       "      <th>75%</th>\n",
       "      <td>1023.50</td>\n",
       "    </tr>\n",
       "    <tr>\n",
       "      <th>max</th>\n",
       "      <td>1436.00</td>\n",
       "    </tr>\n",
       "  </tbody>\n",
       "</table>\n",
       "</div>"
      ],
      "text/plain": [
       "       impactarea_count\n",
       "count             12.00\n",
       "mean             536.83\n",
       "std              508.89\n",
       "min               19.00\n",
       "25%              118.75\n",
       "50%              364.00\n",
       "75%             1023.50\n",
       "max             1436.00"
      ]
     },
     "execution_count": 192,
     "metadata": {},
     "output_type": "execute_result"
    }
   ],
   "source": [
    "#Check descriptive statistics\n",
    "impact_counts_df.describe()"
   ]
  },
  {
   "cell_type": "code",
   "execution_count": 194,
   "id": "6a9562dd-12ed-4ebd-8705-8fe68cde5566",
   "metadata": {},
   "outputs": [
    {
     "data": {
      "text/html": [
       "<div>\n",
       "<style scoped>\n",
       "    .dataframe tbody tr th:only-of-type {\n",
       "        vertical-align: middle;\n",
       "    }\n",
       "\n",
       "    .dataframe tbody tr th {\n",
       "        vertical-align: top;\n",
       "    }\n",
       "\n",
       "    .dataframe thead th {\n",
       "        text-align: right;\n",
       "    }\n",
       "</style>\n",
       "<table border=\"1\" class=\"dataframe\">\n",
       "  <thead>\n",
       "    <tr style=\"text-align: right;\">\n",
       "      <th></th>\n",
       "      <th>impactarea_count</th>\n",
       "    </tr>\n",
       "  </thead>\n",
       "  <tbody>\n",
       "    <tr>\n",
       "      <th>Education</th>\n",
       "      <td>1436</td>\n",
       "    </tr>\n",
       "    <tr>\n",
       "      <th>Economic Development</th>\n",
       "      <td>1205</td>\n",
       "    </tr>\n",
       "    <tr>\n",
       "      <th>Public Health</th>\n",
       "      <td>1097</td>\n",
       "    </tr>\n",
       "    <tr>\n",
       "      <th>Critical Human Needs</th>\n",
       "      <td>999</td>\n",
       "    </tr>\n",
       "    <tr>\n",
       "      <th>Youth</th>\n",
       "      <td>519</td>\n",
       "    </tr>\n",
       "  </tbody>\n",
       "</table>\n",
       "</div>"
      ],
      "text/plain": [
       "                      impactarea_count\n",
       "Education                         1436\n",
       "Economic Development              1205\n",
       "Public Health                     1097\n",
       "Critical Human Needs               999\n",
       "Youth                              519"
      ]
     },
     "execution_count": 194,
     "metadata": {},
     "output_type": "execute_result"
    }
   ],
   "source": [
    "#Create dataframe with the impact areas and counts for the majority classes\n",
    "impact_maj_class = impact_counts_df[impact_counts_df['impactarea_count'] >= 500]\n",
    "impact_maj_class.head(10)"
   ]
  },
  {
   "cell_type": "markdown",
   "id": "0c476259-ab94-4bf4-98d2-c90707e96a99",
   "metadata": {},
   "source": [
    "-------------------"
   ]
  },
  {
   "cell_type": "code",
   "execution_count": 184,
   "id": "cb697d0b-aee9-401d-910f-a24a48520797",
   "metadata": {},
   "outputs": [
    {
     "data": {
      "text/html": [
       "<div>\n",
       "<style scoped>\n",
       "    .dataframe tbody tr th:only-of-type {\n",
       "        vertical-align: middle;\n",
       "    }\n",
       "\n",
       "    .dataframe tbody tr th {\n",
       "        vertical-align: top;\n",
       "    }\n",
       "\n",
       "    .dataframe thead th {\n",
       "        text-align: right;\n",
       "    }\n",
       "</style>\n",
       "<table border=\"1\" class=\"dataframe\">\n",
       "  <thead>\n",
       "    <tr style=\"text-align: right;\">\n",
       "      <th></th>\n",
       "      <th>genome_count</th>\n",
       "    </tr>\n",
       "  </thead>\n",
       "  <tbody>\n",
       "    <tr>\n",
       "      <th>Healthcare Access and Advocacy</th>\n",
       "      <td>698</td>\n",
       "    </tr>\n",
       "    <tr>\n",
       "      <th>Workforce Development</th>\n",
       "      <td>609</td>\n",
       "    </tr>\n",
       "    <tr>\n",
       "      <th>College and Career Readiness</th>\n",
       "      <td>565</td>\n",
       "    </tr>\n",
       "    <tr>\n",
       "      <th>Youth Development</th>\n",
       "      <td>519</td>\n",
       "    </tr>\n",
       "    <tr>\n",
       "      <th>Food Security</th>\n",
       "      <td>487</td>\n",
       "    </tr>\n",
       "  </tbody>\n",
       "</table>\n",
       "</div>"
      ],
      "text/plain": [
       "                                genome_count\n",
       "Healthcare Access and Advocacy           698\n",
       "Workforce Development                    609\n",
       "College and Career Readiness             565\n",
       "Youth Development                        519\n",
       "Food Security                            487"
      ]
     },
     "execution_count": 184,
     "metadata": {},
     "output_type": "execute_result"
    }
   ],
   "source": [
    "#Create new dataframe with the value counts for each unique genome\n",
    "genome_counts_df = pd.DataFrame(full_df['genome'].value_counts())\n",
    "\n",
    "#Change column name to indicate the values are the counts of each genome\n",
    "genome_counts_df.columns = ['genome_count']\n",
    "\n",
    "genome_counts_df.head(5)"
   ]
  },
  {
   "cell_type": "code",
   "execution_count": 186,
   "id": "eb93e361-df4c-47ea-9e82-3efc87276f22",
   "metadata": {},
   "outputs": [
    {
     "data": {
      "text/html": [
       "<div>\n",
       "<style scoped>\n",
       "    .dataframe tbody tr th:only-of-type {\n",
       "        vertical-align: middle;\n",
       "    }\n",
       "\n",
       "    .dataframe tbody tr th {\n",
       "        vertical-align: top;\n",
       "    }\n",
       "\n",
       "    .dataframe thead th {\n",
       "        text-align: right;\n",
       "    }\n",
       "</style>\n",
       "<table border=\"1\" class=\"dataframe\">\n",
       "  <thead>\n",
       "    <tr style=\"text-align: right;\">\n",
       "      <th></th>\n",
       "      <th>genome_count</th>\n",
       "    </tr>\n",
       "  </thead>\n",
       "  <tbody>\n",
       "    <tr>\n",
       "      <th>count</th>\n",
       "      <td>50.00</td>\n",
       "    </tr>\n",
       "    <tr>\n",
       "      <th>mean</th>\n",
       "      <td>128.84</td>\n",
       "    </tr>\n",
       "    <tr>\n",
       "      <th>std</th>\n",
       "      <td>175.44</td>\n",
       "    </tr>\n",
       "    <tr>\n",
       "      <th>min</th>\n",
       "      <td>2.00</td>\n",
       "    </tr>\n",
       "    <tr>\n",
       "      <th>25%</th>\n",
       "      <td>12.25</td>\n",
       "    </tr>\n",
       "    <tr>\n",
       "      <th>50%</th>\n",
       "      <td>47.00</td>\n",
       "    </tr>\n",
       "    <tr>\n",
       "      <th>75%</th>\n",
       "      <td>183.50</td>\n",
       "    </tr>\n",
       "    <tr>\n",
       "      <th>max</th>\n",
       "      <td>698.00</td>\n",
       "    </tr>\n",
       "  </tbody>\n",
       "</table>\n",
       "</div>"
      ],
      "text/plain": [
       "       genome_count\n",
       "count         50.00\n",
       "mean         128.84\n",
       "std          175.44\n",
       "min            2.00\n",
       "25%           12.25\n",
       "50%           47.00\n",
       "75%          183.50\n",
       "max          698.00"
      ]
     },
     "execution_count": 186,
     "metadata": {},
     "output_type": "execute_result"
    }
   ],
   "source": [
    "#Check descriptive statistics\n",
    "genome_counts_df.describe()"
   ]
  },
  {
   "cell_type": "code",
   "execution_count": 188,
   "id": "a5b19b3b-0d32-46d9-9056-f91a5062f106",
   "metadata": {},
   "outputs": [
    {
     "data": {
      "text/html": [
       "<div>\n",
       "<style scoped>\n",
       "    .dataframe tbody tr th:only-of-type {\n",
       "        vertical-align: middle;\n",
       "    }\n",
       "\n",
       "    .dataframe tbody tr th {\n",
       "        vertical-align: top;\n",
       "    }\n",
       "\n",
       "    .dataframe thead th {\n",
       "        text-align: right;\n",
       "    }\n",
       "</style>\n",
       "<table border=\"1\" class=\"dataframe\">\n",
       "  <thead>\n",
       "    <tr style=\"text-align: right;\">\n",
       "      <th></th>\n",
       "      <th>genome_count</th>\n",
       "    </tr>\n",
       "  </thead>\n",
       "  <tbody>\n",
       "    <tr>\n",
       "      <th>Healthcare Access and Advocacy</th>\n",
       "      <td>698</td>\n",
       "    </tr>\n",
       "    <tr>\n",
       "      <th>Workforce Development</th>\n",
       "      <td>609</td>\n",
       "    </tr>\n",
       "    <tr>\n",
       "      <th>College and Career Readiness</th>\n",
       "      <td>565</td>\n",
       "    </tr>\n",
       "    <tr>\n",
       "      <th>Youth Development</th>\n",
       "      <td>519</td>\n",
       "    </tr>\n",
       "    <tr>\n",
       "      <th>Food Security</th>\n",
       "      <td>487</td>\n",
       "    </tr>\n",
       "    <tr>\n",
       "      <th>K-12 Student Achievement</th>\n",
       "      <td>336</td>\n",
       "    </tr>\n",
       "    <tr>\n",
       "      <th>Financial Health</th>\n",
       "      <td>331</td>\n",
       "    </tr>\n",
       "  </tbody>\n",
       "</table>\n",
       "</div>"
      ],
      "text/plain": [
       "                                genome_count\n",
       "Healthcare Access and Advocacy           698\n",
       "Workforce Development                    609\n",
       "College and Career Readiness             565\n",
       "Youth Development                        519\n",
       "Food Security                            487\n",
       "K-12 Student Achievement                 336\n",
       "Financial Health                         331"
      ]
     },
     "execution_count": 188,
     "metadata": {},
     "output_type": "execute_result"
    }
   ],
   "source": [
    "#Create dataframe with the genomes and counts for the majority classes\n",
    "genome_maj_class = genome_counts_df[genome_counts_df['genome_count'] >= 303] #more than one std dev greater than mean\n",
    "genome_maj_class.head(10)"
   ]
  }
 ],
 "metadata": {
  "kernelspec": {
   "display_name": "Python [conda env:base] *",
   "language": "python",
   "name": "conda-base-py"
  },
  "language_info": {
   "codemirror_mode": {
    "name": "ipython",
    "version": 3
   },
   "file_extension": ".py",
   "mimetype": "text/x-python",
   "name": "python",
   "nbconvert_exporter": "python",
   "pygments_lexer": "ipython3",
   "version": "3.11.5"
  }
 },
 "nbformat": 4,
 "nbformat_minor": 5
}
