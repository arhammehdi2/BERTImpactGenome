{
 "cells": [
  {
   "cell_type": "markdown",
   "id": "dd455017-bc2e-4eab-92d0-1be3b1e9b00e",
   "metadata": {},
   "source": [
    "### Logistic Regression\n",
    "#### DSC 672 - Group 5 - Impact Genome\n",
    "Julia Aptekar, DePaul University, japtekar@depaul.edu\n",
    "\n",
    "John Leniart, DePaul University, jleniart@depaul.edu\n",
    "\n",
    "Arham Mehdi, DePaul University kmehdi@depaul.edu\n",
    "\n",
    "Natalie Olechno, DePaul University, nolechno@depaul.edu"
   ]
  },
  {
   "cell_type": "markdown",
   "id": "c5a66513-9acd-4904-8ac1-b9908e6300e4",
   "metadata": {},
   "source": [
    "------------------------------"
   ]
  },
  {
   "cell_type": "code",
   "execution_count": 3,
   "id": "a64ce915-74fb-4624-9ef9-b231d5d0b2c4",
   "metadata": {},
   "outputs": [
    {
     "name": "stdout",
     "output_type": "stream",
     "text": [
      "C:\\Users\\jclen\\OneDrive\\Desktop\\DSC 672 - Capstone\\Group Project\\Data\n"
     ]
    }
   ],
   "source": [
    "cd C:\\\\Users\\\\jclen\\\\OneDrive\\\\Desktop\\\\DSC 672 - Capstone\\\\Group Project\\\\Data"
   ]
  },
  {
   "cell_type": "code",
   "execution_count": 4,
   "id": "27004baf-4569-4555-ab0c-883bc4e742da",
   "metadata": {},
   "outputs": [],
   "source": [
    "import pandas as pd\n",
    "import numpy as np\n",
    "from sklearn.model_selection import train_test_split, GridSearchCV\n",
    "from sklearn.linear_model import LogisticRegression\n",
    "from sklearn.metrics import accuracy_score, f1_score, precision_score, recall_score\n",
    "from sklearn.preprocessing import OneHotEncoder\n",
    "from sklearn.compose import ColumnTransformer\n",
    "from sklearn.pipeline import Pipeline"
   ]
  },
  {
   "cell_type": "code",
   "execution_count": 5,
   "id": "db2e2b05-0002-42a0-a3a2-f01065cc67fb",
   "metadata": {},
   "outputs": [
    {
     "data": {
      "text/html": [
       "<div>\n",
       "<style scoped>\n",
       "    .dataframe tbody tr th:only-of-type {\n",
       "        vertical-align: middle;\n",
       "    }\n",
       "\n",
       "    .dataframe tbody tr th {\n",
       "        vertical-align: top;\n",
       "    }\n",
       "\n",
       "    .dataframe thead th {\n",
       "        text-align: right;\n",
       "    }\n",
       "</style>\n",
       "<table border=\"1\" class=\"dataframe\">\n",
       "  <thead>\n",
       "    <tr style=\"text-align: right;\">\n",
       "      <th></th>\n",
       "      <th>programreportid</th>\n",
       "      <th>programdescription</th>\n",
       "      <th>impactarea</th>\n",
       "      <th>genome</th>\n",
       "      <th>outcome</th>\n",
       "      <th>outcomeid</th>\n",
       "    </tr>\n",
       "  </thead>\n",
       "  <tbody>\n",
       "    <tr>\n",
       "      <th>0</th>\n",
       "      <td>587</td>\n",
       "      <td>Free community programming is a pillar of our ...</td>\n",
       "      <td>Arts</td>\n",
       "      <td>Access and Appreciation</td>\n",
       "      <td>Reached Diverse Audiences</td>\n",
       "      <td>155.0</td>\n",
       "    </tr>\n",
       "    <tr>\n",
       "      <th>1</th>\n",
       "      <td>780</td>\n",
       "      <td>My Program rule!</td>\n",
       "      <td>Arts</td>\n",
       "      <td>Access and Appreciation</td>\n",
       "      <td>Enhanced Arts Appreciation</td>\n",
       "      <td>67.0</td>\n",
       "    </tr>\n",
       "    <tr>\n",
       "      <th>2</th>\n",
       "      <td>877</td>\n",
       "      <td>TBD\\xxxxxxxxxxxxxxxxxxxxxxxxxxxxxxxxxxxxxxxxxx...</td>\n",
       "      <td>Arts</td>\n",
       "      <td>Access and Appreciation</td>\n",
       "      <td>Enhanced Arts Appreciation</td>\n",
       "      <td>67.0</td>\n",
       "    </tr>\n",
       "    <tr>\n",
       "      <th>3</th>\n",
       "      <td>892</td>\n",
       "      <td>VGâ€™s Arts Education Programs yearly engage n...</td>\n",
       "      <td>Arts</td>\n",
       "      <td>Access and Appreciation</td>\n",
       "      <td>Enhanced Arts Appreciation</td>\n",
       "      <td>67.0</td>\n",
       "    </tr>\n",
       "    <tr>\n",
       "      <th>4</th>\n",
       "      <td>899</td>\n",
       "      <td>The Met Corporate Patron Program, led by the M...</td>\n",
       "      <td>Arts</td>\n",
       "      <td>Access and Appreciation</td>\n",
       "      <td>Enhanced Arts Appreciation</td>\n",
       "      <td>67.0</td>\n",
       "    </tr>\n",
       "  </tbody>\n",
       "</table>\n",
       "</div>"
      ],
      "text/plain": [
       "   programreportid                                 programdescription  \\\n",
       "0              587  Free community programming is a pillar of our ...   \n",
       "1              780                                   My Program rule!   \n",
       "2              877  TBD\\xxxxxxxxxxxxxxxxxxxxxxxxxxxxxxxxxxxxxxxxxx...   \n",
       "3              892  VGâ€™s Arts Education Programs yearly engage n...   \n",
       "4              899  The Met Corporate Patron Program, led by the M...   \n",
       "\n",
       "  impactarea                   genome                     outcome  outcomeid  \n",
       "0       Arts  Access and Appreciation   Reached Diverse Audiences      155.0  \n",
       "1       Arts  Access and Appreciation  Enhanced Arts Appreciation       67.0  \n",
       "2       Arts  Access and Appreciation  Enhanced Arts Appreciation       67.0  \n",
       "3       Arts  Access and Appreciation  Enhanced Arts Appreciation       67.0  \n",
       "4       Arts  Access and Appreciation  Enhanced Arts Appreciation       67.0  "
      ]
     },
     "execution_count": 5,
     "metadata": {},
     "output_type": "execute_result"
    }
   ],
   "source": [
    "fileName = 'Validated Data from Heather.xlsx' #original dataset\n",
    "#fileName = 'Combined Data.xlsx' #contains original data and synthetic data\n",
    "df = pd.read_excel(fileName)\n",
    "df.head(5)"
   ]
  },
  {
   "cell_type": "markdown",
   "id": "b6a29e64-0d4c-4845-b7fc-bf970ad97312",
   "metadata": {},
   "source": [
    "------------------"
   ]
  },
  {
   "cell_type": "markdown",
   "id": "b0316bc6-459a-4c62-af91-4e90357fe623",
   "metadata": {},
   "source": [
    "#### Preprocessing"
   ]
  },
  {
   "cell_type": "code",
   "execution_count": 8,
   "id": "3122dbd4-f56e-4ae0-a2c7-9197ded84631",
   "metadata": {},
   "outputs": [
    {
     "data": {
      "text/plain": [
       "programreportid       6442\n",
       "programdescription    6442\n",
       "impactarea            6442\n",
       "genome                6442\n",
       "outcome               6442\n",
       "outcomeid             6442\n",
       "dtype: int64"
      ]
     },
     "execution_count": 8,
     "metadata": {},
     "output_type": "execute_result"
    }
   ],
   "source": [
    "#Drop all null values\n",
    "df = df.dropna()\n",
    "df.count()"
   ]
  },
  {
   "cell_type": "code",
   "execution_count": 9,
   "id": "57d94b6a-7b95-4c56-8d58-92f986ad8073",
   "metadata": {},
   "outputs": [
    {
     "data": {
      "text/plain": [
       "programreportid       object\n",
       "programdescription    object\n",
       "impactarea            object\n",
       "genome                object\n",
       "outcome               object\n",
       "outcomeid             object\n",
       "dtype: object"
      ]
     },
     "execution_count": 9,
     "metadata": {},
     "output_type": "execute_result"
    }
   ],
   "source": [
    "df['outcomeid'] = df['outcomeid'].astype(str)\n",
    "df['programreportid'] = df['programreportid'].astype(str)\n",
    "df.dtypes"
   ]
  },
  {
   "cell_type": "code",
   "execution_count": 10,
   "id": "17c5ea55-4ef2-448d-af4c-bcecf8be0a9c",
   "metadata": {},
   "outputs": [],
   "source": [
    "#Remove special characters from program description\n",
    "import re\n",
    "df['programdescription'] = [re.sub(r\"[^A-Za-z0-9 :.,'-]+\", \"\", x) for x in df['programdescription']]\n",
    "#Leave only letters, numbers, and some punctutation marks (colon, period, comma, apostraphe, hyphen)"
   ]
  },
  {
   "cell_type": "code",
   "execution_count": 11,
   "id": "bf82989e-a539-426d-b6c7-b5c346d0c5ca",
   "metadata": {},
   "outputs": [
    {
     "data": {
      "text/plain": [
       "programreportid       6421\n",
       "programdescription    6421\n",
       "impactarea            6421\n",
       "genome                6421\n",
       "outcome               6421\n",
       "outcomeid             6421\n",
       "dtype: int64"
      ]
     },
     "execution_count": 11,
     "metadata": {},
     "output_type": "execute_result"
    }
   ],
   "source": [
    "#We noticed some rows that have placeholder values for program description\n",
    "id_lst =['168', '186', '3238', '3461', '3473', '362', '3677', '3744', '3746', '3770', '3794',\n",
    "         '4012', '4250', '453', '464', '471', '4815', '6917', '7555', '780', '877']\n",
    "\n",
    "#Program description is the main input for our model. So, we want to remove the rows with placeholder values\n",
    "df.drop(df[df['programreportid'].isin(id_lst)].index, inplace=True)\n",
    "df.count()"
   ]
  },
  {
   "cell_type": "markdown",
   "id": "0c5eec4e-cb0f-4b14-80b9-d4a79e48d092",
   "metadata": {},
   "source": [
    "--------------"
   ]
  },
  {
   "cell_type": "markdown",
   "id": "43f39f9e-73a5-49d5-b2d0-8deda1da4c3c",
   "metadata": {},
   "source": [
    "#### Split Data in Train/Test"
   ]
  },
  {
   "cell_type": "code",
   "execution_count": 14,
   "id": "43f40688-15ef-44ba-b0ed-64f0c7c37b9a",
   "metadata": {},
   "outputs": [],
   "source": [
    "#Split dataset into feature variables and target variable\n",
    "#X = df.iloc[:, :-1] #everything except the last column\n",
    "#X = df.iloc[:, 1] #program description\n",
    "#y = df.iloc[:, -1] #outcome id"
   ]
  },
  {
   "cell_type": "code",
   "execution_count": 15,
   "id": "1340d2f6-7bb0-4611-b312-9e5da03b6bde",
   "metadata": {},
   "outputs": [],
   "source": [
    "#Our dataset has outcome IDs that only appear once\n",
    "#We need to make sure they are included in the training data for the model\n",
    "#So, we have to manually separate out the outcome IDs that only appear once\n",
    "value_counts = df['outcomeid'].value_counts()\n",
    "rare_classes = value_counts[value_counts == 1].index\n",
    "rare_data = df[df.iloc[:, -1].isin(rare_classes)]\n",
    "df_main = df[~df.iloc[:, -1].isin(rare_classes)]"
   ]
  },
  {
   "cell_type": "code",
   "execution_count": 16,
   "id": "6a91f9df-5daf-483d-b711-6ac70fb599c4",
   "metadata": {},
   "outputs": [],
   "source": [
    "#Perform stratified split on the main dataset\n",
    "X_main = df_main.iloc[:, :-1]\n",
    "y_main = df_main.iloc[:, -1]\n",
    "X_train_main, X_test_main, y_train_main, y_test_main = train_test_split(X_main, y_main, test_size=0.2, random_state=42, stratify=y_main)"
   ]
  },
  {
   "cell_type": "code",
   "execution_count": 17,
   "id": "0ce82918-7fbb-4232-a35e-58c7477337d5",
   "metadata": {},
   "outputs": [],
   "source": [
    "#Combine the rare classes into the training or test set as needed\n",
    "X_train = pd.concat([X_train_main, rare_data.iloc[:, :-1]], axis=0)\n",
    "y_train = pd.concat([y_train_main, rare_data.iloc[:, -1]], axis=0)\n",
    "X_test = X_test_main\n",
    "y_test = y_test_main"
   ]
  },
  {
   "cell_type": "code",
   "execution_count": 18,
   "id": "d0f6e3c3-b67c-4f1f-9e42-5c98097f0b69",
   "metadata": {},
   "outputs": [
    {
     "name": "stdout",
     "output_type": "stream",
     "text": [
      "Rows in training data:  5150\n",
      "Rows in testing data:  1271\n"
     ]
    }
   ],
   "source": [
    "print('Rows in training data: ',len(X_train))\n",
    "print('Rows in testing data: ',len(X_test))"
   ]
  },
  {
   "cell_type": "code",
   "execution_count": 19,
   "id": "788ae622-fbf8-4d53-b6d5-d85d9aa01cd8",
   "metadata": {},
   "outputs": [],
   "source": [
    "X_train = X_train.iloc[:, 1]\n",
    "X_test = X_test.iloc[:, 1]"
   ]
  },
  {
   "cell_type": "code",
   "execution_count": 20,
   "id": "c5fa1df9-ec19-45b3-86a7-a4205262ace3",
   "metadata": {},
   "outputs": [],
   "source": [
    "X_train = pd.DataFrame(X_train)\n",
    "X_test = pd.DataFrame(X_test)"
   ]
  },
  {
   "cell_type": "markdown",
   "id": "9c0c34d4-87a0-4344-90e9-50f42b0c3c2f",
   "metadata": {},
   "source": [
    "----------------"
   ]
  },
  {
   "cell_type": "markdown",
   "id": "c052c6b4-d39e-4d75-a2f1-e321f88ab714",
   "metadata": {},
   "source": [
    "#### Encoding"
   ]
  },
  {
   "cell_type": "code",
   "execution_count": 23,
   "id": "ccf0e7f0-f7d6-43be-9d52-415fa0ac8a73",
   "metadata": {},
   "outputs": [],
   "source": [
    "#Define a ColumnTransformer to apply OneHotEncoding to categorical columns\n",
    "#All columns in X_train are categorical strings\n",
    "categorical_features = X_train.select_dtypes(include=['object']).columns  # Identify categorical columns"
   ]
  },
  {
   "cell_type": "code",
   "execution_count": 24,
   "id": "ef42fa1e-40a2-4f1a-a449-bbd66236c6fa",
   "metadata": {},
   "outputs": [],
   "source": [
    "#Apply OneHotEncoder to categorical columns\n",
    "preprocessor = ColumnTransformer(\n",
    "    transformers=[('cat', OneHotEncoder(handle_unknown='ignore'), categorical_features)],\n",
    "    remainder='passthrough'  #Leave non-categorical columns unchanged\n",
    ")"
   ]
  },
  {
   "cell_type": "markdown",
   "id": "bb9a1d79-1f1d-4a2a-88cb-2976a36fbe22",
   "metadata": {},
   "source": [
    "-----------"
   ]
  },
  {
   "cell_type": "markdown",
   "id": "27bf53b8-f5ab-4c03-9f21-f659114190d7",
   "metadata": {},
   "source": [
    "#### Baseline Logistic Regression Model with Pipeline"
   ]
  },
  {
   "cell_type": "code",
   "execution_count": 27,
   "id": "319fbafc-b851-4757-bf45-187104007874",
   "metadata": {},
   "outputs": [],
   "source": [
    "#Define the Logistic Regression model within a pipeline\n",
    "#The pipeline first applies the preprocessor (OneHotEncoder) and then fits Logistic Regression model\n",
    "model_pipeline = Pipeline(steps=[\n",
    "    ('preprocessor', preprocessor),\n",
    "    ('classifier', LogisticRegression(max_iter=1000))\n",
    "])"
   ]
  },
  {
   "cell_type": "code",
   "execution_count": 28,
   "id": "48e7807f-7479-4881-a64a-0a9e0390b376",
   "metadata": {},
   "outputs": [
    {
     "data": {
      "text/html": [
       "<style>#sk-container-id-1 {color: black;}#sk-container-id-1 pre{padding: 0;}#sk-container-id-1 div.sk-toggleable {background-color: white;}#sk-container-id-1 label.sk-toggleable__label {cursor: pointer;display: block;width: 100%;margin-bottom: 0;padding: 0.3em;box-sizing: border-box;text-align: center;}#sk-container-id-1 label.sk-toggleable__label-arrow:before {content: \"▸\";float: left;margin-right: 0.25em;color: #696969;}#sk-container-id-1 label.sk-toggleable__label-arrow:hover:before {color: black;}#sk-container-id-1 div.sk-estimator:hover label.sk-toggleable__label-arrow:before {color: black;}#sk-container-id-1 div.sk-toggleable__content {max-height: 0;max-width: 0;overflow: hidden;text-align: left;background-color: #f0f8ff;}#sk-container-id-1 div.sk-toggleable__content pre {margin: 0.2em;color: black;border-radius: 0.25em;background-color: #f0f8ff;}#sk-container-id-1 input.sk-toggleable__control:checked~div.sk-toggleable__content {max-height: 200px;max-width: 100%;overflow: auto;}#sk-container-id-1 input.sk-toggleable__control:checked~label.sk-toggleable__label-arrow:before {content: \"▾\";}#sk-container-id-1 div.sk-estimator input.sk-toggleable__control:checked~label.sk-toggleable__label {background-color: #d4ebff;}#sk-container-id-1 div.sk-label input.sk-toggleable__control:checked~label.sk-toggleable__label {background-color: #d4ebff;}#sk-container-id-1 input.sk-hidden--visually {border: 0;clip: rect(1px 1px 1px 1px);clip: rect(1px, 1px, 1px, 1px);height: 1px;margin: -1px;overflow: hidden;padding: 0;position: absolute;width: 1px;}#sk-container-id-1 div.sk-estimator {font-family: monospace;background-color: #f0f8ff;border: 1px dotted black;border-radius: 0.25em;box-sizing: border-box;margin-bottom: 0.5em;}#sk-container-id-1 div.sk-estimator:hover {background-color: #d4ebff;}#sk-container-id-1 div.sk-parallel-item::after {content: \"\";width: 100%;border-bottom: 1px solid gray;flex-grow: 1;}#sk-container-id-1 div.sk-label:hover label.sk-toggleable__label {background-color: #d4ebff;}#sk-container-id-1 div.sk-serial::before {content: \"\";position: absolute;border-left: 1px solid gray;box-sizing: border-box;top: 0;bottom: 0;left: 50%;z-index: 0;}#sk-container-id-1 div.sk-serial {display: flex;flex-direction: column;align-items: center;background-color: white;padding-right: 0.2em;padding-left: 0.2em;position: relative;}#sk-container-id-1 div.sk-item {position: relative;z-index: 1;}#sk-container-id-1 div.sk-parallel {display: flex;align-items: stretch;justify-content: center;background-color: white;position: relative;}#sk-container-id-1 div.sk-item::before, #sk-container-id-1 div.sk-parallel-item::before {content: \"\";position: absolute;border-left: 1px solid gray;box-sizing: border-box;top: 0;bottom: 0;left: 50%;z-index: -1;}#sk-container-id-1 div.sk-parallel-item {display: flex;flex-direction: column;z-index: 1;position: relative;background-color: white;}#sk-container-id-1 div.sk-parallel-item:first-child::after {align-self: flex-end;width: 50%;}#sk-container-id-1 div.sk-parallel-item:last-child::after {align-self: flex-start;width: 50%;}#sk-container-id-1 div.sk-parallel-item:only-child::after {width: 0;}#sk-container-id-1 div.sk-dashed-wrapped {border: 1px dashed gray;margin: 0 0.4em 0.5em 0.4em;box-sizing: border-box;padding-bottom: 0.4em;background-color: white;}#sk-container-id-1 div.sk-label label {font-family: monospace;font-weight: bold;display: inline-block;line-height: 1.2em;}#sk-container-id-1 div.sk-label-container {text-align: center;}#sk-container-id-1 div.sk-container {/* jupyter's `normalize.less` sets `[hidden] { display: none; }` but bootstrap.min.css set `[hidden] { display: none !important; }` so we also need the `!important` here to be able to override the default hidden behavior on the sphinx rendered scikit-learn.org. See: https://github.com/scikit-learn/scikit-learn/issues/21755 */display: inline-block !important;position: relative;}#sk-container-id-1 div.sk-text-repr-fallback {display: none;}</style><div id=\"sk-container-id-1\" class=\"sk-top-container\"><div class=\"sk-text-repr-fallback\"><pre>Pipeline(steps=[(&#x27;preprocessor&#x27;,\n",
       "                 ColumnTransformer(remainder=&#x27;passthrough&#x27;,\n",
       "                                   transformers=[(&#x27;cat&#x27;,\n",
       "                                                  OneHotEncoder(handle_unknown=&#x27;ignore&#x27;),\n",
       "                                                  Index([&#x27;programdescription&#x27;], dtype=&#x27;object&#x27;))])),\n",
       "                (&#x27;classifier&#x27;, LogisticRegression(max_iter=1000))])</pre><b>In a Jupyter environment, please rerun this cell to show the HTML representation or trust the notebook. <br />On GitHub, the HTML representation is unable to render, please try loading this page with nbviewer.org.</b></div><div class=\"sk-container\" hidden><div class=\"sk-item sk-dashed-wrapped\"><div class=\"sk-label-container\"><div class=\"sk-label sk-toggleable\"><input class=\"sk-toggleable__control sk-hidden--visually\" id=\"sk-estimator-id-1\" type=\"checkbox\" ><label for=\"sk-estimator-id-1\" class=\"sk-toggleable__label sk-toggleable__label-arrow\">Pipeline</label><div class=\"sk-toggleable__content\"><pre>Pipeline(steps=[(&#x27;preprocessor&#x27;,\n",
       "                 ColumnTransformer(remainder=&#x27;passthrough&#x27;,\n",
       "                                   transformers=[(&#x27;cat&#x27;,\n",
       "                                                  OneHotEncoder(handle_unknown=&#x27;ignore&#x27;),\n",
       "                                                  Index([&#x27;programdescription&#x27;], dtype=&#x27;object&#x27;))])),\n",
       "                (&#x27;classifier&#x27;, LogisticRegression(max_iter=1000))])</pre></div></div></div><div class=\"sk-serial\"><div class=\"sk-item sk-dashed-wrapped\"><div class=\"sk-label-container\"><div class=\"sk-label sk-toggleable\"><input class=\"sk-toggleable__control sk-hidden--visually\" id=\"sk-estimator-id-2\" type=\"checkbox\" ><label for=\"sk-estimator-id-2\" class=\"sk-toggleable__label sk-toggleable__label-arrow\">preprocessor: ColumnTransformer</label><div class=\"sk-toggleable__content\"><pre>ColumnTransformer(remainder=&#x27;passthrough&#x27;,\n",
       "                  transformers=[(&#x27;cat&#x27;, OneHotEncoder(handle_unknown=&#x27;ignore&#x27;),\n",
       "                                 Index([&#x27;programdescription&#x27;], dtype=&#x27;object&#x27;))])</pre></div></div></div><div class=\"sk-parallel\"><div class=\"sk-parallel-item\"><div class=\"sk-item\"><div class=\"sk-label-container\"><div class=\"sk-label sk-toggleable\"><input class=\"sk-toggleable__control sk-hidden--visually\" id=\"sk-estimator-id-3\" type=\"checkbox\" ><label for=\"sk-estimator-id-3\" class=\"sk-toggleable__label sk-toggleable__label-arrow\">cat</label><div class=\"sk-toggleable__content\"><pre>Index([&#x27;programdescription&#x27;], dtype=&#x27;object&#x27;)</pre></div></div></div><div class=\"sk-serial\"><div class=\"sk-item\"><div class=\"sk-estimator sk-toggleable\"><input class=\"sk-toggleable__control sk-hidden--visually\" id=\"sk-estimator-id-4\" type=\"checkbox\" ><label for=\"sk-estimator-id-4\" class=\"sk-toggleable__label sk-toggleable__label-arrow\">OneHotEncoder</label><div class=\"sk-toggleable__content\"><pre>OneHotEncoder(handle_unknown=&#x27;ignore&#x27;)</pre></div></div></div></div></div></div><div class=\"sk-parallel-item\"><div class=\"sk-item\"><div class=\"sk-label-container\"><div class=\"sk-label sk-toggleable\"><input class=\"sk-toggleable__control sk-hidden--visually\" id=\"sk-estimator-id-5\" type=\"checkbox\" ><label for=\"sk-estimator-id-5\" class=\"sk-toggleable__label sk-toggleable__label-arrow\">remainder</label><div class=\"sk-toggleable__content\"><pre>[]</pre></div></div></div><div class=\"sk-serial\"><div class=\"sk-item\"><div class=\"sk-estimator sk-toggleable\"><input class=\"sk-toggleable__control sk-hidden--visually\" id=\"sk-estimator-id-6\" type=\"checkbox\" ><label for=\"sk-estimator-id-6\" class=\"sk-toggleable__label sk-toggleable__label-arrow\">passthrough</label><div class=\"sk-toggleable__content\"><pre>passthrough</pre></div></div></div></div></div></div></div></div><div class=\"sk-item\"><div class=\"sk-estimator sk-toggleable\"><input class=\"sk-toggleable__control sk-hidden--visually\" id=\"sk-estimator-id-7\" type=\"checkbox\" ><label for=\"sk-estimator-id-7\" class=\"sk-toggleable__label sk-toggleable__label-arrow\">LogisticRegression</label><div class=\"sk-toggleable__content\"><pre>LogisticRegression(max_iter=1000)</pre></div></div></div></div></div></div></div>"
      ],
      "text/plain": [
       "Pipeline(steps=[('preprocessor',\n",
       "                 ColumnTransformer(remainder='passthrough',\n",
       "                                   transformers=[('cat',\n",
       "                                                  OneHotEncoder(handle_unknown='ignore'),\n",
       "                                                  Index(['programdescription'], dtype='object'))])),\n",
       "                ('classifier', LogisticRegression(max_iter=1000))])"
      ]
     },
     "execution_count": 28,
     "metadata": {},
     "output_type": "execute_result"
    }
   ],
   "source": [
    "#Train the model\n",
    "model_pipeline.fit(X_train, y_train)"
   ]
  },
  {
   "cell_type": "code",
   "execution_count": 29,
   "id": "3896019f-2cee-458f-bafb-3dbe59263ae7",
   "metadata": {},
   "outputs": [],
   "source": [
    "#Make predictions on the testing data\n",
    "y_pred = model_pipeline.predict(X_test)"
   ]
  },
  {
   "cell_type": "markdown",
   "id": "404b3036-8e28-4a9d-96c7-264643064160",
   "metadata": {},
   "source": [
    "----------------------"
   ]
  },
  {
   "cell_type": "markdown",
   "id": "2100a72f-3f59-4556-87b2-cc6f8310ae8b",
   "metadata": {},
   "source": [
    "#### Evaluate Baseline Model Performance"
   ]
  },
  {
   "cell_type": "code",
   "execution_count": 32,
   "id": "54c43884-4a4d-443c-a166-9b2325d41dc7",
   "metadata": {},
   "outputs": [
    {
     "name": "stdout",
     "output_type": "stream",
     "text": [
      "Accuracy: 0.2722\n",
      "F1 Score: 0.2885\n",
      "Precision: 0.4393\n",
      "Recall: 0.2722\n"
     ]
    },
    {
     "name": "stderr",
     "output_type": "stream",
     "text": [
      "C:\\Users\\jclen\\anaconda3\\Lib\\site-packages\\sklearn\\metrics\\_classification.py:1469: UndefinedMetricWarning: Precision is ill-defined and being set to 0.0 in labels with no predicted samples. Use `zero_division` parameter to control this behavior.\n",
      "  _warn_prf(average, modifier, msg_start, len(result))\n"
     ]
    }
   ],
   "source": [
    "#Calculate evaluation metrics\n",
    "accuracy = accuracy_score(y_test, y_pred)\n",
    "f1 = f1_score(y_test, y_pred, average='weighted')\n",
    "precision = precision_score(y_test, y_pred, average='weighted')\n",
    "recall = recall_score(y_test, y_pred, average='weighted')\n",
    "\n",
    "print(f'Accuracy: {accuracy:.4f}')\n",
    "print(f'F1 Score: {f1:.4f}')\n",
    "print(f'Precision: {precision:.4f}')\n",
    "print(f'Recall: {recall:.4f}')"
   ]
  },
  {
   "cell_type": "markdown",
   "id": "e34407c4-029a-4ccc-828f-7f6d1100a997",
   "metadata": {},
   "source": [
    "----------------"
   ]
  },
  {
   "cell_type": "markdown",
   "id": "79155b1b-ae16-4196-9ca5-691e740579cf",
   "metadata": {},
   "source": [
    "#### Parameter Tuning Using GridSearch"
   ]
  },
  {
   "cell_type": "code",
   "execution_count": 35,
   "id": "4e6b1a93-6c58-4a9d-b004-4c9f740cb132",
   "metadata": {},
   "outputs": [],
   "source": [
    "#Define the parameter grid for GridSearchCV\n",
    "param_grid = {\n",
    "    'classifier__C': [0.1, 1.0, 10.0],  #Regularization strength for Logistic Regression\n",
    "    'classifier__solver': ['lbfgs', 'liblinear'],  #Solvers to test\n",
    "    'preprocessor__cat__handle_unknown': ['ignore', 'error']  #Test different strategies for handling unknown categories\n",
    "}"
   ]
  },
  {
   "cell_type": "code",
   "execution_count": 36,
   "id": "aaea7360-9b39-4b47-9c85-726a55b4271c",
   "metadata": {},
   "outputs": [
    {
     "name": "stderr",
     "output_type": "stream",
     "text": [
      "C:\\Users\\jclen\\anaconda3\\Lib\\site-packages\\sklearn\\model_selection\\_split.py:725: UserWarning: The least populated class in y has only 1 members, which is less than n_splits=5.\n",
      "  warnings.warn(\n"
     ]
    },
    {
     "name": "stdout",
     "output_type": "stream",
     "text": [
      "Fitting 5 folds for each of 12 candidates, totalling 60 fits\n"
     ]
    },
    {
     "name": "stderr",
     "output_type": "stream",
     "text": [
      "C:\\Users\\jclen\\anaconda3\\Lib\\site-packages\\sklearn\\model_selection\\_search.py:976: UserWarning: One or more of the test scores are non-finite: [0.0768932         nan 0.0776699         nan 0.21300971        nan\n",
      " 0.22058252        nan 0.34485437        nan 0.34446602        nan]\n",
      "  warnings.warn(\n"
     ]
    },
    {
     "name": "stdout",
     "output_type": "stream",
     "text": [
      "Best parameters: {'classifier__C': 10.0, 'classifier__solver': 'lbfgs', 'preprocessor__cat__handle_unknown': 'ignore'}\n",
      "Best cross-validation score: 0.3448543689320388\n"
     ]
    }
   ],
   "source": [
    "#Setup the GridSearchCV\n",
    "grid_search = GridSearchCV(estimator=model_pipeline, param_grid=param_grid, cv=5, n_jobs=-1, verbose=1)\n",
    "\n",
    "#Fit the GridSearchCV to the training data\n",
    "grid_search.fit(X_train, y_train)\n",
    "\n",
    "#Get the best model and hyperparameters\n",
    "print(f\"Best parameters: {grid_search.best_params_}\")\n",
    "print(f\"Best cross-validation score: {grid_search.best_score_}\")"
   ]
  },
  {
   "cell_type": "code",
   "execution_count": 37,
   "id": "9ed93e4b-260d-449b-bb51-a48f970a37c3",
   "metadata": {},
   "outputs": [
    {
     "name": "stdout",
     "output_type": "stream",
     "text": [
      "Test set score: 0.38552321007081036\n"
     ]
    }
   ],
   "source": [
    "# Test the model with the best parameters\n",
    "best_model = grid_search.best_estimator_\n",
    "test_score = best_model.score(X_test, y_test)\n",
    "print(f\"Test set score: {test_score}\")"
   ]
  },
  {
   "cell_type": "markdown",
   "id": "64dbff3a-4eaf-437b-94ed-04fa6861d538",
   "metadata": {},
   "source": [
    "------------"
   ]
  },
  {
   "cell_type": "markdown",
   "id": "49b91743-bfd8-4e53-b037-86383a855271",
   "metadata": {},
   "source": [
    "#### Evaluate Logistic Regression Model Performance After Parameter Tuning"
   ]
  },
  {
   "cell_type": "code",
   "execution_count": 40,
   "id": "598bd6cf-b2a3-4416-a313-034d7abe5553",
   "metadata": {},
   "outputs": [],
   "source": [
    "#make predictions on test data\n",
    "y_pred2 = best_model.predict(X_test)"
   ]
  },
  {
   "cell_type": "code",
   "execution_count": 41,
   "id": "68d2a259-73a0-456d-9ddf-740e5b79f97a",
   "metadata": {},
   "outputs": [
    {
     "name": "stdout",
     "output_type": "stream",
     "text": [
      "Accuracy: 0.3855\n",
      "F1 Score: 0.4130\n",
      "Precision: 0.5274\n",
      "Recall: 0.3855\n"
     ]
    },
    {
     "name": "stderr",
     "output_type": "stream",
     "text": [
      "C:\\Users\\jclen\\anaconda3\\Lib\\site-packages\\sklearn\\metrics\\_classification.py:1469: UndefinedMetricWarning: Precision is ill-defined and being set to 0.0 in labels with no predicted samples. Use `zero_division` parameter to control this behavior.\n",
      "  _warn_prf(average, modifier, msg_start, len(result))\n",
      "C:\\Users\\jclen\\anaconda3\\Lib\\site-packages\\sklearn\\metrics\\_classification.py:1469: UndefinedMetricWarning: Recall is ill-defined and being set to 0.0 in labels with no true samples. Use `zero_division` parameter to control this behavior.\n",
      "  _warn_prf(average, modifier, msg_start, len(result))\n"
     ]
    }
   ],
   "source": [
    "#Calculate evaluation metrics\n",
    "accuracy_tune = accuracy_score(y_test, y_pred2)\n",
    "f1_tune = f1_score(y_test, y_pred2, average='weighted')\n",
    "precision_tune = precision_score(y_test, y_pred2, average='weighted')\n",
    "recall_tune = recall_score(y_test, y_pred2, average='weighted')\n",
    "\n",
    "print(f'Accuracy: {accuracy_tune:.4f}')\n",
    "print(f'F1 Score: {f1_tune:.4f}')\n",
    "print(f'Precision: {precision_tune:.4f}')\n",
    "print(f'Recall: {recall_tune:.4f}')"
   ]
  }
 ],
 "metadata": {
  "kernelspec": {
   "display_name": "Python [conda env:base] *",
   "language": "python",
   "name": "conda-base-py"
  },
  "language_info": {
   "codemirror_mode": {
    "name": "ipython",
    "version": 3
   },
   "file_extension": ".py",
   "mimetype": "text/x-python",
   "name": "python",
   "nbconvert_exporter": "python",
   "pygments_lexer": "ipython3",
   "version": "3.11.5"
  }
 },
 "nbformat": 4,
 "nbformat_minor": 5
}
